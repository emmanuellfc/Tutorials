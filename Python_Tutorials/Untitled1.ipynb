{
 "cells": [
  {
   "cell_type": "code",
   "execution_count": 41,
   "id": "af7cdba6",
   "metadata": {},
   "outputs": [],
   "source": [
    "def two_fer(name = \"you\"):\n",
    "    return 'One for {}, one for me.'.format(name)"
   ]
  },
  {
   "cell_type": "code",
   "execution_count": 44,
   "id": "4430160f",
   "metadata": {},
   "outputs": [],
   "source": [
    "def fail_safe(temperature, neutrons_produced_per_second, threshold):\n",
    "    \"\"\"Assess and return status code for the reactor.\n",
    "\n",
    "    :param temperature: int or float - value of the temperature in kelvin.\n",
    "    :param neutrons_produced_per_second: int or float - neutron flux.\n",
    "    :param threshold: int or float - threshold for category.\n",
    "    :return: str - one of ('LOW', 'NORMAL', 'DANGER').\n",
    "\n",
    "    1. 'LOW' -> `temperature * neutrons per second` < 90% of `threshold`\n",
    "    2. 'NORMAL' -> `temperature * neutrons per second` +/- 10% of `threshold`\n",
    "    3. 'DANGER' -> `temperature * neutrons per second` is not in the above-stated ranges\n",
    "    \"\"\"\n",
    "    criticality = temperature * neutrons_produced_per_second\n",
    "    low_threshold = 0.9 * threshold\n",
    "    high_threshold = 1.1 * threshold\n",
    "    if temperature * neutrons_produced_per_second < low_threshold:\n",
    "        return 'LOW'\n",
    "    if low_threshold <= criticality <= high_threshold:\n",
    "        return 'NORMAL'\n",
    "    return 'DANGER'\n"
   ]
  },
  {
   "cell_type": "code",
   "execution_count": null,
   "id": "b9532afc",
   "metadata": {},
   "outputs": [],
   "source": []
  }
 ],
 "metadata": {
  "kernelspec": {
   "display_name": "Python 3 (ipykernel)",
   "language": "python",
   "name": "python3"
  },
  "language_info": {
   "codemirror_mode": {
    "name": "ipython",
    "version": 3
   },
   "file_extension": ".py",
   "mimetype": "text/x-python",
   "name": "python",
   "nbconvert_exporter": "python",
   "pygments_lexer": "ipython3",
   "version": "3.10.7"
  }
 },
 "nbformat": 4,
 "nbformat_minor": 5
}
