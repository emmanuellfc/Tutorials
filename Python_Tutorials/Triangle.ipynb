{
 "cells": [
  {
   "cell_type": "markdown",
   "id": "dd6a19f2",
   "metadata": {},
   "source": [
    "Instructions\n",
    "Determine if a triangle is equilateral, isosceles, or scalene.\n",
    "An equilateral triangle has all three sides the same length.\n",
    "An isosceles triangle has at least two sides the same length. (It is sometimes specified as having exactly two sides the same length, but for the purposes of this exercise we'll say at least two.)\n",
    "A scalene triangle has all sides of different lengths.\n",
    "\n",
    "Note\n",
    "For a shape to be a triangle at all, all sides have to be of length > 0, and the sum of the lengths of any two sides must be greater than or equal to the length of the third side."
   ]
  },
  {
   "cell_type": "code",
   "execution_count": null,
   "id": "96d1d2e3",
   "metadata": {},
   "outputs": [],
   "source": [
    "def equilateral(sides):\n",
    "    \"\"\"\n",
    "    An equilateral triangle has all three sides the same length.\n",
    "    \"\"\"\n",
    "    s0 = sides[0]\n",
    "    s1 = sides[1]\n",
    "    s2 = sides[2]\n",
    "    if s0 > 0 and s1 > 0 and s2 > 0:\n",
    "        if (s0 + s1 >= s2) and (s1+s2 >= s0) and (s2 + s0 >= s1):\n",
    "            if s0 == s1 == s2:\n",
    "                return True\n",
    "            else:\n",
    "                return False\n",
    "        else:\n",
    "            return False\n",
    "    else:\n",
    "        return False\n",
    "\n",
    "\n",
    "def isosceles(sides):\n",
    "    \"\"\"\n",
    "    An isosceles triangle has at least two sides the same length.\n",
    "    \"\"\"\n",
    "    s0 = sides[0]\n",
    "    s1 = sides[1]\n",
    "    s2 = sides[2]\n",
    "    if s0 > 0 and s1 > 0 and s2 > 0:\n",
    "        if (s0 + s1 >= s2) and (s1 + s2 >= s0) and (s2 + s0 >= s1):\n",
    "            if (s0 == s1) or (s0 == s2) or (s1 == s2):\n",
    "                return True\n",
    "            else:\n",
    "                return False\n",
    "        else:\n",
    "            return False\n",
    "    else:\n",
    "        return False\n",
    "\n",
    "\n",
    "def scalene(sides):\n",
    "    \"\"\"\n",
    "    A scalene triangle has all sides of different lengths.\n",
    "    \"\"\"\n",
    "    s0 = sides[0]\n",
    "    s1 = sides[1]\n",
    "    s2 = sides[2]\n",
    "    if s0 > 0 and s1 > 0 and s2 > 0:\n",
    "        if (s0 + s1 >= s2) and (s1+s2 >= s0) and (s2 + s0 >= s1):\n",
    "            if (s0 != s1) and (s0 != s2) and (s1 != s2):\n",
    "                return True\n",
    "            else:\n",
    "                return False\n",
    "        else:\n",
    "            return False\n",
    "    else:\n",
    "        return False"
   ]
  }
 ],
 "metadata": {
  "kernelspec": {
   "display_name": "Python 3 (ipykernel)",
   "language": "python",
   "name": "python3"
  },
  "language_info": {
   "codemirror_mode": {
    "name": "ipython",
    "version": 3
   },
   "file_extension": ".py",
   "mimetype": "text/x-python",
   "name": "python",
   "nbconvert_exporter": "python",
   "pygments_lexer": "ipython3",
   "version": "3.10.7"
  }
 },
 "nbformat": 4,
 "nbformat_minor": 5
}
