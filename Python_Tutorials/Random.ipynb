{
 "cells": [
  {
   "cell_type": "code",
   "execution_count": 10,
   "id": "9115b88f",
   "metadata": {},
   "outputs": [],
   "source": [
    "def private_key(p):\n",
    "    import random\n",
    "    return random.uniform(1, p)"
   ]
  },
  {
   "cell_type": "code",
   "execution_count": 11,
   "id": "c38c8eaf",
   "metadata": {},
   "outputs": [
    {
     "data": {
      "text/plain": [
       "0"
      ]
     },
     "execution_count": 11,
     "metadata": {},
     "output_type": "execute_result"
    }
   ],
   "source": [
    "2 % 2"
   ]
  },
  {
   "cell_type": "code",
   "execution_count": 12,
   "id": "de734987",
   "metadata": {},
   "outputs": [],
   "source": [
    "def public_key(p, g, private):\n",
    "    return g**(private) % p\n"
   ]
  },
  {
   "cell_type": "code",
   "execution_count": null,
   "id": "f037f9e1",
   "metadata": {},
   "outputs": [],
   "source": []
  }
 ],
 "metadata": {
  "kernelspec": {
   "display_name": "Python 3 (ipykernel)",
   "language": "python",
   "name": "python3"
  },
  "language_info": {
   "codemirror_mode": {
    "name": "ipython",
    "version": 3
   },
   "file_extension": ".py",
   "mimetype": "text/x-python",
   "name": "python",
   "nbconvert_exporter": "python",
   "pygments_lexer": "ipython3",
   "version": "3.10.7"
  }
 },
 "nbformat": 4,
 "nbformat_minor": 5
}
