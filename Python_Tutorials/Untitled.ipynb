{
 "cells": [
  {
   "cell_type": "code",
   "execution_count": 10,
   "id": "5282c908",
   "metadata": {},
   "outputs": [],
   "source": [
    "def square_of_sum(number):\n",
    "    sq_sum0 = []\n",
    "    for i in range(number + 1):\n",
    "        sq_sum0.append(i)\n",
    "    sq_sum = sum(sq_sum0)**2\n",
    "    return sq_sum"
   ]
  },
  {
   "cell_type": "code",
   "execution_count": 11,
   "id": "a839011b",
   "metadata": {},
   "outputs": [
    {
     "data": {
      "text/plain": [
       "3025"
      ]
     },
     "execution_count": 11,
     "metadata": {},
     "output_type": "execute_result"
    }
   ],
   "source": [
    "square_of_sum(10)"
   ]
  },
  {
   "cell_type": "code",
   "execution_count": 12,
   "id": "56cf7aba",
   "metadata": {},
   "outputs": [],
   "source": [
    "def sum_of_squares(number):\n",
    "    sq_sum0 = []\n",
    "    for i in range(number + 1):\n",
    "        sq_sum0.append(i**2)\n",
    "    sq_sum = sum(sq_sum0)\n",
    "    return sq_sum"
   ]
  },
  {
   "cell_type": "code",
   "execution_count": 13,
   "id": "125aa304",
   "metadata": {},
   "outputs": [
    {
     "data": {
      "text/plain": [
       "385"
      ]
     },
     "execution_count": 13,
     "metadata": {},
     "output_type": "execute_result"
    }
   ],
   "source": [
    "sum_of_squares(10)"
   ]
  },
  {
   "cell_type": "code",
   "execution_count": 14,
   "id": "c62b71fd",
   "metadata": {},
   "outputs": [],
   "source": [
    "x = str(10)"
   ]
  },
  {
   "cell_type": "code",
   "execution_count": 29,
   "id": "606a6b90",
   "metadata": {},
   "outputs": [],
   "source": [
    "def trial(number):\n",
    "    condition = []\n",
    "    str_num = str(number)\n",
    "    str_len = len(str_num)\n",
    "    return int(x[0]) ** str_len"
   ]
  },
  {
   "cell_type": "code",
   "execution_count": 30,
   "id": "fa792fcf",
   "metadata": {},
   "outputs": [
    {
     "data": {
      "text/plain": [
       "1"
      ]
     },
     "execution_count": 30,
     "metadata": {},
     "output_type": "execute_result"
    }
   ],
   "source": [
    "trial(10)"
   ]
  },
  {
   "cell_type": "code",
   "execution_count": 36,
   "id": "77e0add4",
   "metadata": {},
   "outputs": [],
   "source": [
    "def armstrong(number):\n",
    "    condition = []\n",
    "    str_num = str(number)\n",
    "    str_len = len(str_num)\n",
    "    for i in range(str_len):\n",
    "        s1 = int(str_num[i]) ** str_len\n",
    "        condition.append(s1)\n",
    "    condition_sum = sum(condition)\n",
    "    if number == condition_sum:\n",
    "        return True\n",
    "    else:\n",
    "        return False"
   ]
  },
  {
   "cell_type": "code",
   "execution_count": 37,
   "id": "9b53011c",
   "metadata": {},
   "outputs": [
    {
     "data": {
      "text/plain": [
       "False"
      ]
     },
     "execution_count": 37,
     "metadata": {},
     "output_type": "execute_result"
    }
   ],
   "source": [
    "armstrong(10)"
   ]
  },
  {
   "cell_type": "code",
   "execution_count": 38,
   "id": "7bdbd83b",
   "metadata": {},
   "outputs": [],
   "source": [
    "def eat_ghost(power_pellet_active, touching_ghost):\n",
    "    \"\"\"Verify that Pac-Man can eat a ghost if he is empowered by a power pellet.\n",
    "\n",
    "    :param power_pellet_active: bool - does the player have an active power pellet?\n",
    "    :param touching_ghost: bool - is the player touching a ghost?\n",
    "    :return: bool - can the ghost be eaten?\n",
    "    \"\"\"\n",
    "    if power_pellet_active == True and touching_ghost == True:\n",
    "        return True\n",
    "    else:\n",
    "        return False"
   ]
  },
  {
   "cell_type": "code",
   "execution_count": 39,
   "id": "d746e31e",
   "metadata": {},
   "outputs": [
    {
     "data": {
      "text/plain": [
       "False"
      ]
     },
     "execution_count": 39,
     "metadata": {},
     "output_type": "execute_result"
    }
   ],
   "source": [
    "eat_ghost(False, True)"
   ]
  },
  {
   "cell_type": "code",
   "execution_count": null,
   "id": "91a91b33",
   "metadata": {},
   "outputs": [],
   "source": [
    "def score(touching_power_pellet, touching_dot):\n",
    "    \"\"\"Verify that Pac-Man has scored when a power pellet or dot has been eaten.\n",
    "\n",
    "    :param touching_power_pellet: bool - is the player touching a power pellet?\n",
    "    :param touching_dot: bool - is the player touching a dot?\n",
    "    :return: bool - has the player scored or not?\n",
    "    \"\"\"\n",
    "\n",
    "    if touching_power_pellet == True or touching_dot == True:\n",
    "        return True\n",
    "    else:\n",
    "        return False"
   ]
  },
  {
   "cell_type": "code",
   "execution_count": 40,
   "id": "4f497252",
   "metadata": {},
   "outputs": [],
   "source": [
    "def lose(power_pellet_active, touching_ghost):\n",
    "    \"\"\"Trigger the game loop to end (GAME OVER) when Pac-Man touches a ghost without his power pellet.\n",
    "\n",
    "    :param power_pellet_active: bool - does the player have an active power pellet?\n",
    "    :param touching_ghost: bool - is the player touching a ghost?\n",
    "    :return: bool - has the player lost the game?\n",
    "    \"\"\"\n",
    "\n",
    "    if power_pellet_active != True and touching_ghost == True:\n",
    "        return True\n",
    "    else:\n",
    "        return False"
   ]
  },
  {
   "cell_type": "code",
   "execution_count": 41,
   "id": "8147ead1",
   "metadata": {},
   "outputs": [
    {
     "data": {
      "text/plain": [
       "True"
      ]
     },
     "execution_count": 41,
     "metadata": {},
     "output_type": "execute_result"
    }
   ],
   "source": [
    "lose(False, True)"
   ]
  },
  {
   "cell_type": "code",
   "execution_count": 52,
   "id": "b67476c1",
   "metadata": {},
   "outputs": [],
   "source": [
    "def win(has_eaten_all_dots, power_pellet_active, touching_ghost):\n",
    "    \"\"\"Trigger the victory event when all dots have been eaten.\n",
    "\n",
    "    :param has_eaten_all_dots: bool - has the player \"eaten\" all the dots?\n",
    "    :param power_pellet_active: bool - does the player have an active power pellet?\n",
    "    :param touching_ghost: bool - is the player touching a ghost?\n",
    "    :return: bool - has the player won the game?\n",
    "    \"\"\"\n",
    "\n",
    "    if has_eaten_all_dots == True and lose(power_pellet_active, touching_ghost) == False:\n",
    "        return True\n",
    "    else:\n",
    "        return False"
   ]
  },
  {
   "cell_type": "code",
   "execution_count": 53,
   "id": "a87f7e86",
   "metadata": {},
   "outputs": [
    {
     "data": {
      "text/plain": [
       "False"
      ]
     },
     "execution_count": 53,
     "metadata": {},
     "output_type": "execute_result"
    }
   ],
   "source": [
    "win(False, True, True)"
   ]
  },
  {
   "cell_type": "code",
   "execution_count": 68,
   "id": "c14a985d",
   "metadata": {},
   "outputs": [],
   "source": [
    "def leap_year(year):\n",
    "    if year % 4 == 0:\n",
    "        if year % 100 != 0:\n",
    "            return True\n",
    "        else:\n",
    "            if year % 400 == 0:\n",
    "                return True\n",
    "            else:\n",
    "                return False\n",
    "    else:\n",
    "        return False"
   ]
  },
  {
   "cell_type": "code",
   "execution_count": 69,
   "id": "7ef9bf38",
   "metadata": {},
   "outputs": [
    {
     "data": {
      "text/plain": [
       "False"
      ]
     },
     "execution_count": 69,
     "metadata": {},
     "output_type": "execute_result"
    }
   ],
   "source": [
    "leap_year(1900)"
   ]
  },
  {
   "cell_type": "code",
   "execution_count": 61,
   "id": "7eedac06",
   "metadata": {},
   "outputs": [
    {
     "data": {
      "text/plain": [
       "0"
      ]
     },
     "execution_count": 61,
     "metadata": {},
     "output_type": "execute_result"
    }
   ],
   "source": [
    "8 % 4"
   ]
  },
  {
   "cell_type": "code",
   "execution_count": 58,
   "id": "0be95400",
   "metadata": {},
   "outputs": [
    {
     "ename": "NameError",
     "evalue": "name 'mod' is not defined",
     "output_type": "error",
     "traceback": [
      "\u001b[0;31m---------------------------------------------------------------------------\u001b[0m",
      "\u001b[0;31mNameError\u001b[0m                                 Traceback (most recent call last)",
      "\u001b[0;32m/tmp/ipykernel_32732/1704079096.py\u001b[0m in \u001b[0;36m<module>\u001b[0;34m\u001b[0m\n\u001b[0;32m----> 1\u001b[0;31m \u001b[0mmod\u001b[0m\u001b[0;34m(\u001b[0m\u001b[0;36m1997\u001b[0m\u001b[0;34m,\u001b[0m\u001b[0;36m4\u001b[0m\u001b[0;34m)\u001b[0m\u001b[0;34m\u001b[0m\u001b[0;34m\u001b[0m\u001b[0m\n\u001b[0m",
      "\u001b[0;31mNameError\u001b[0m: name 'mod' is not defined"
     ]
    }
   ],
   "source": [
    "mod(1997,4)"
   ]
  },
  {
   "cell_type": "code",
   "execution_count": null,
   "id": "255d83a8",
   "metadata": {},
   "outputs": [],
   "source": []
  }
 ],
 "metadata": {
  "kernelspec": {
   "display_name": "Python 3 (ipykernel)",
   "language": "python",
   "name": "python3"
  },
  "language_info": {
   "codemirror_mode": {
    "name": "ipython",
    "version": 3
   },
   "file_extension": ".py",
   "mimetype": "text/x-python",
   "name": "python",
   "nbconvert_exporter": "python",
   "pygments_lexer": "ipython3",
   "version": "3.10.7"
  }
 },
 "nbformat": 4,
 "nbformat_minor": 5
}
