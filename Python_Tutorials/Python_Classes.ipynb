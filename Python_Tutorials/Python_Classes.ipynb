{
 "cells": [
  {
   "cell_type": "code",
   "execution_count": 1,
   "metadata": {},
   "outputs": [],
   "source": [
    "#---Classes in Python---#\n",
    "#---The following notebook is a brief introduction to classes in Python\n",
    "#---and is inspired by the following link: \n",
    "#---https://nbviewer.org/urls/www.numfys.net/media/notebooks/classes_in_Python.ipynb"
   ]
  },
  {
   "cell_type": "code",
   "execution_count": 2,
   "metadata": {},
   "outputs": [],
   "source": [
    "# A quick note about naming conventions: You will see that we throughout \n",
    "# this notebook will capitalize class names, such as class Person. \n",
    "# Instances of classes will be in lower case, as in peter = Person(). \n",
    "# This is a common naming convention that you will encounter in most languages."
   ]
  },
  {
   "cell_type": "code",
   "execution_count": 3,
   "metadata": {},
   "outputs": [],
   "source": [
    "# The reader might have heard of the words 'class' and 'instance' in the context of \n",
    "# object oriented programming before. \n",
    "# In a class-based paradigm, one creates 'classes' which represent some concept, \n",
    "# be it an abstract idea or a specific data structure.\n",
    "# The class may be though of as a recipe, while the instance is the actual data that \n",
    "# has been allocated in the computer's memory."
   ]
  },
  {
   "cell_type": "code",
   "execution_count": 4,
   "metadata": {},
   "outputs": [],
   "source": [
    "class Person:\n",
    "    ## Declare and attibute to the class\n",
    "    is_monkey = False"
   ]
  },
  {
   "cell_type": "code",
   "execution_count": 5,
   "metadata": {},
   "outputs": [
    {
     "name": "stdout",
     "output_type": "stream",
     "text": [
      "Is Peter amonkey?\n",
      "The answer is:  False\n"
     ]
    }
   ],
   "source": [
    "## Now, create an instance of the class Person\n",
    "## stored in the variable peter.\n",
    "peter = Person()\n",
    "print('Is Peter amonkey?')\n",
    "print('The answer is: ',peter.is_monkey)"
   ]
  },
  {
   "cell_type": "code",
   "execution_count": 6,
   "metadata": {},
   "outputs": [],
   "source": [
    "# We have created a class Person; it has one attribute, or property, which is is_monkey. \n",
    "# We then create an instance of the class, with the line peter = Person(). \n",
    "# An instance is a 'realization' of the conceptual object represented by the class Person. "
   ]
  },
  {
   "cell_type": "code",
   "execution_count": 7,
   "metadata": {},
   "outputs": [
    {
     "name": "stdout",
     "output_type": "stream",
     "text": [
      "Is Lisa a monkey?\n",
      "The answer is:  False\n"
     ]
    }
   ],
   "source": [
    "lisa = Person()\n",
    "print('Is Lisa a monkey?')\n",
    "print('The answer is: ',lisa.is_monkey)"
   ]
  },
  {
   "cell_type": "code",
   "execution_count": 8,
   "metadata": {},
   "outputs": [],
   "source": [
    "# We would, however, like to have a little more personality to our Person class. \n",
    "# We do this by adding a very special method, __init__, known as the initializer \n",
    "# (a method is the word we use about a function that belongs to a class)."
   ]
  },
  {
   "cell_type": "code",
   "execution_count": 9,
   "metadata": {},
   "outputs": [
    {
     "name": "stdout",
     "output_type": "stream",
     "text": [
      "This person is called Emmanuel and is 25 years old.\n",
      "This person is called Orlando and is 48 years old.\n"
     ]
    }
   ],
   "source": [
    "## We rewrite our class, making ot more personal\n",
    "class Person:\n",
    "    ## Define an attribute to the class\n",
    "    is_monkey = False\n",
    "\n",
    "    ## The initializer\n",
    "    ## We set the name and age of the person\n",
    "    def __init__(self, name, age):\n",
    "        self.name = name\n",
    "        self.age = age\n",
    "\n",
    "def print_person(person):\n",
    "    \"\"\"Print information about person instance\"\"\"\n",
    "    print(f\"This person is called {person.name} and is {person.age} years old.\")\n",
    "\n",
    "\n",
    "## Now, create an instance of the class Person\n",
    "emmanuel = Person('Emmanuel', 25)\n",
    "orlando  = Person('Orlando', 48)\n",
    "\n",
    "## Print the information about the person\n",
    "print_person(emmanuel)\n",
    "print_person(orlando)"
   ]
  },
  {
   "cell_type": "code",
   "execution_count": 10,
   "metadata": {},
   "outputs": [],
   "source": [
    "## The method __init__ is used when we want to create instances of our classes\n",
    "## to endow them with individual information not common to all instances."
   ]
  },
  {
   "cell_type": "code",
   "execution_count": 11,
   "metadata": {},
   "outputs": [
    {
     "name": "stdout",
     "output_type": "stream",
     "text": [
      "Peter's age is now:  26\n"
     ]
    }
   ],
   "source": [
    "peter = Person('Peter', 25)\n",
    "peter.age += 1\n",
    "print(\"Peter's age is now: \", peter.age)"
   ]
  },
  {
   "cell_type": "code",
   "execution_count": 12,
   "metadata": {},
   "outputs": [],
   "source": [
    "## The importance of class vs instance variables"
   ]
  },
  {
   "cell_type": "code",
   "execution_count": 13,
   "metadata": {},
   "outputs": [],
   "source": [
    "# The first way to set an attribute that we saw, where it is defined \n",
    "# directly in the class, outside any initializer, is called a class variable.\n",
    "# The data we set inside the initializer, are instance variables\n",
    "# Instance variables are for data unique to each instance and class \n",
    "# variables are for attributes shared by all instances of the class."
   ]
  },
  {
   "cell_type": "code",
   "execution_count": 14,
   "metadata": {},
   "outputs": [
    {
     "name": "stdout",
     "output_type": "stream",
     "text": [
      "[1, 2, 3] [1, 2, 3]\n"
     ]
    }
   ],
   "source": [
    "lst  = [1, 2]\n",
    "lst2 = lst     ## This simply assign lst to the name lst2\n",
    "lst2.append(3) ## Altering lst, will also alter lst2, since they are the same list\n",
    "print(lst, lst2)"
   ]
  },
  {
   "cell_type": "code",
   "execution_count": 15,
   "metadata": {},
   "outputs": [],
   "source": [
    "# We will now demonstrate how this affects class and instance variables\n",
    "\n",
    "class MyClass:\n",
    "    ## Define a class variable\n",
    "    class_list = []\n",
    "\n",
    "    ## Define an instance variable\n",
    "    def __init__(self):\n",
    "        self.instance_list = []\n",
    "\n",
    "def print_instance(name, instance):\n",
    "    print(name, f\"{instance.class_list}, {instance.instance_list}\")"
   ]
  },
  {
   "cell_type": "code",
   "execution_count": 16,
   "metadata": {},
   "outputs": [
    {
     "name": "stdout",
     "output_type": "stream",
     "text": [
      "instance1: [], []\n",
      "instance2: [], []\n"
     ]
    }
   ],
   "source": [
    "instance1 = MyClass()\n",
    "instance2 = MyClass()\n",
    "print_instance(\"instance1:\", instance1)\n",
    "print_instance(\"instance2:\", instance2)"
   ]
  },
  {
   "cell_type": "code",
   "execution_count": 17,
   "metadata": {},
   "outputs": [
    {
     "name": "stdout",
     "output_type": "stream",
     "text": [
      "##After altering instance1 ###\n",
      "instance1: [27], [48]\n",
      "instance2: [27], []\n"
     ]
    }
   ],
   "source": [
    "## Alter the list in instance1\n",
    "instance1.class_list.append(27)             ## Here we alter the class common to all instances\n",
    "instance1.instance_list.append(48)          ## Here we alter just the instance1\n",
    "print(f'{\"After altering instance1 \":#^30}')\n",
    "print_instance(\"instance1:\", instance1)\n",
    "print_instance(\"instance2:\", instance2)"
   ]
  },
  {
   "cell_type": "code",
   "execution_count": 18,
   "metadata": {},
   "outputs": [],
   "source": [
    "## Functions as members - methods"
   ]
  },
  {
   "cell_type": "code",
   "execution_count": 19,
   "metadata": {},
   "outputs": [],
   "source": [
    "# We now write a method introduce to our Person class, \n",
    "# instead of using the external function print_person."
   ]
  },
  {
   "cell_type": "code",
   "execution_count": 20,
   "metadata": {},
   "outputs": [],
   "source": [
    "class Person:\n",
    "    ## Define an attribute to the class\n",
    "    is_monkey = False\n",
    "\n",
    "    ## The initializer\n",
    "    def __init__(self, name, age):\n",
    "        self.name = name\n",
    "        self.age = age\n",
    "\n",
    "    ## Define a method\n",
    "    def introduce(self):\n",
    "        print(f\"Hello, my name is {self.name} and I am {self.age} years old.\")"
   ]
  },
  {
   "cell_type": "code",
   "execution_count": 22,
   "metadata": {},
   "outputs": [
    {
     "name": "stdout",
     "output_type": "stream",
     "text": [
      "Hello, my name is Emmanuel and I am 25 years old.\n"
     ]
    }
   ],
   "source": [
    "emmanuel = Person('Emmanuel', 25)\n",
    "emmanuel.introduce()"
   ]
  },
  {
   "cell_type": "code",
   "execution_count": 23,
   "metadata": {},
   "outputs": [],
   "source": [
    "## Just like normal functions, methods may also take arguments.\n",
    "class Person:\n",
    "    ## Define an attribute to the class\n",
    "    is_mokey = False\n",
    "\n",
    "    ## The initializer\n",
    "    def __init__(self, name, age):\n",
    "        self.name = name\n",
    "        self.age = age\n",
    "\n",
    "    ## Define a method\n",
    "    def introduce(self):\n",
    "        print(f\"Hello, my name is {self.name} and I am {self.age} years old.\")\n",
    "\n",
    "    ## A method that takes arguments\n",
    "    def set_balance(self, amount):\n",
    "        \"\"\"Sets the balance of the Person\"\"\"\n",
    "        self.balance = amount"
   ]
  },
  {
   "cell_type": "code",
   "execution_count": 24,
   "metadata": {},
   "outputs": [
    {
     "name": "stdout",
     "output_type": "stream",
     "text": [
      "Hello, my name is Emmanuel and I am 28 years old.\n",
      "Emmanuel's balance is: 1000\n"
     ]
    }
   ],
   "source": [
    "emmanuel =  Person(\"Emmanuel\", 28)\n",
    "emmanuel.set_balance(1000)\n",
    "emmanuel.introduce()\n",
    "print(f\"Emmanuel's balance is: {emmanuel.balance}\")"
   ]
  },
  {
   "cell_type": "code",
   "execution_count": null,
   "metadata": {},
   "outputs": [],
   "source": []
  }
 ],
 "metadata": {
  "kernelspec": {
   "display_name": "base",
   "language": "python",
   "name": "python3"
  },
  "language_info": {
   "codemirror_mode": {
    "name": "ipython",
    "version": 3
   },
   "file_extension": ".py",
   "mimetype": "text/x-python",
   "name": "python",
   "nbconvert_exporter": "python",
   "pygments_lexer": "ipython3",
   "version": "3.8.12"
  },
  "orig_nbformat": 4
 },
 "nbformat": 4,
 "nbformat_minor": 2
}
