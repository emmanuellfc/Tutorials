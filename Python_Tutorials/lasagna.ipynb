{
 "cells": [
  {
   "cell_type": "code",
   "execution_count": 4,
   "metadata": {},
   "outputs": [],
   "source": [
    "import lasagna"
   ]
  },
  {
   "cell_type": "code",
   "execution_count": 5,
   "metadata": {},
   "outputs": [
    {
     "data": {
      "text/plain": [
       "40"
      ]
     },
     "execution_count": 5,
     "metadata": {},
     "output_type": "execute_result"
    }
   ],
   "source": [
    "lasagna.EXPECTED_BAKE_TIME()"
   ]
  },
  {
   "cell_type": "code",
   "execution_count": 6,
   "metadata": {},
   "outputs": [
    {
     "name": "stdout",
     "output_type": "stream",
     "text": [
      "10\n"
     ]
    },
    {
     "data": {
      "text/plain": [
       "10"
      ]
     },
     "execution_count": 6,
     "metadata": {},
     "output_type": "execute_result"
    }
   ],
   "source": [
    "lasagna.bake_time_remaining(30)"
   ]
  },
  {
   "cell_type": "code",
   "execution_count": 1,
   "metadata": {},
   "outputs": [],
   "source": [
    "def EXPECTED_BAKE_TIME():\n",
    "    time = 40\n",
    "    print(time)"
   ]
  },
  {
   "cell_type": "code",
   "execution_count": 3,
   "metadata": {},
   "outputs": [
    {
     "name": "stdout",
     "output_type": "stream",
     "text": [
      "40\n"
     ]
    }
   ],
   "source": [
    "EXPECTED_BAKE_TIME()"
   ]
  },
  {
   "cell_type": "code",
   "execution_count": 6,
   "metadata": {},
   "outputs": [],
   "source": [
    "def elapsed_time_in_minutes(number_of_layers, elapsed_bake_time):\n",
    "    \"\"\"Calculate the elapsed cooking time.\n",
    "\n",
    "    :param number_of_layers: int - the number of layers in the lasagna.\n",
    "    :param elapsed_bake_time: int - elapsed cooking time.\n",
    "    :return: int - total time elapsed (in minutes) preparing and cooking.\n",
    "\n",
    "    This function takes two integers representing the number of lasagna\n",
    "    layers and the time already spent baking and calculates the total elapsed \n",
    "    minutes spent cooking the lasagna.\n",
    "    \"\"\"\n",
    "    sum = 2 * number_of_layers  + elapsed_bake_time\n",
    "    return sum"
   ]
  },
  {
   "cell_type": "code",
   "execution_count": 8,
   "metadata": {},
   "outputs": [
    {
     "name": "stdout",
     "output_type": "stream",
     "text": [
      "Calculate the elapsed cooking time.\n",
      "\n",
      "    :param number_of_layers: int - the number of layers in the lasagna.\n",
      "    :param elapsed_bake_time: int - elapsed cooking time.\n",
      "    :return: int - total time elapsed (in minutes) preparing and cooking.\n",
      "\n",
      "    This function takes two integers representing the number of lasagna\n",
      "    layers and the time already spent baking and calculates the total elapsed \n",
      "    minutes spent cooking the lasagna.\n",
      "    \n"
     ]
    }
   ],
   "source": [
    "print(elapsed_time_in_minutes.__doc__)"
   ]
  },
  {
   "cell_type": "code",
   "execution_count": 10,
   "metadata": {},
   "outputs": [
    {
     "data": {
      "text/plain": [
       "7.5"
      ]
     },
     "execution_count": 10,
     "metadata": {},
     "output_type": "execute_result"
    }
   ],
   "source": [
    "127.5 % 10"
   ]
  },
  {
   "cell_type": "code",
   "execution_count": 21,
   "metadata": {},
   "outputs": [],
   "source": [
    "def exchangeable_value(budget, exchange_rate, spread, denomination):\n",
    "    \"\"\"\n",
    "    :param budget: float - the amount of your money you are planning to exchange.\n",
    "    :param exchange_rate: float - the unit value of the foreign currency.\n",
    "    :param spread: int - percentage that is taken as an exchange fee.\n",
    "    :param denomination: int - the value of a single bill.\n",
    "    :return: int - maximum value you can get.\n",
    "    \"\"\"\n",
    "    ex1 = (exchange_rate / 100) * spread + exchange_rate\n",
    "    print(ex1)\n",
    "    ex2 = budget / ex1\n",
    "    print(ex2)\n",
    "    ex3 = int(ex2 / denomination)\n",
    "    print(ex3)\n",
    "    return ex3 * denomination"
   ]
  },
  {
   "cell_type": "code",
   "execution_count": 22,
   "metadata": {},
   "outputs": [
    {
     "name": "stdout",
     "output_type": "stream",
     "text": [
      "1.3199999999999998\n",
      "96.40151515151517\n",
      "4\n"
     ]
    },
    {
     "data": {
      "text/plain": [
       "80"
      ]
     },
     "execution_count": 22,
     "metadata": {},
     "output_type": "execute_result"
    }
   ],
   "source": [
    "exchangeable_value(127.25, 1.20, 10, 20)"
   ]
  },
  {
   "cell_type": "code",
   "execution_count": 42,
   "metadata": {},
   "outputs": [],
   "source": [
    "def steps(number):\n",
    "    steps = 0\n",
    "    if number <= 0:\n",
    "        print(\"Collatz conjecture valid only for integer numbers\")\n",
    "        raise ValueError\n",
    "    else:\n",
    "        while number != 1:\n",
    "            if number % 2 == 0:\n",
    "                number = number / 2\n",
    "                steps += 1\n",
    "            else:\n",
    "                number = 3 * number + 1\n",
    "                steps += 1\n",
    "        return steps"
   ]
  },
  {
   "cell_type": "code",
   "execution_count": 44,
   "metadata": {},
   "outputs": [
    {
     "data": {
      "text/plain": [
       "6"
      ]
     },
     "execution_count": 44,
     "metadata": {},
     "output_type": "execute_result"
    }
   ],
   "source": [
    "steps(10)"
   ]
  },
  {
   "cell_type": "code",
   "execution_count": 28,
   "metadata": {},
   "outputs": [
    {
     "data": {
      "text/plain": [
       "0"
      ]
     },
     "execution_count": 28,
     "metadata": {},
     "output_type": "execute_result"
    }
   ],
   "source": [
    "2%2"
   ]
  },
  {
   "cell_type": "code",
   "execution_count": null,
   "metadata": {},
   "outputs": [],
   "source": []
  }
 ],
 "metadata": {
  "kernelspec": {
   "display_name": "Python 3 (ipykernel)",
   "language": "python",
   "name": "python3"
  },
  "language_info": {
   "codemirror_mode": {
    "name": "ipython",
    "version": 3
   },
   "file_extension": ".py",
   "mimetype": "text/x-python",
   "name": "python",
   "nbconvert_exporter": "python",
   "pygments_lexer": "ipython3",
   "version": "3.10.7"
  }
 },
 "nbformat": 4,
 "nbformat_minor": 2
}
