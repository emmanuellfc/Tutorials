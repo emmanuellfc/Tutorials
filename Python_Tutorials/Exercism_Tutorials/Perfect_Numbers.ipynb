{
 "cells": [
  {
   "cell_type": "markdown",
   "id": "f20f2492",
   "metadata": {},
   "source": [
    "## Instructions\n",
    "\n",
    "Determine if a number is perfect, abundant, or deficient based on Nicomachus' (60 - 120 CE) classification scheme for positive integers.\n",
    "\n",
    "The Greek mathematician Nicomachus devised a classification scheme for positive integers, identifying each as belonging uniquely to the categories of perfect, abundant, or deficient based on their aliquot sum. The aliquot sum is defined as the sum of the factors of a number not including the number itself. For example, the aliquot sum of 15 is (1 + 3 + 5) = 9\n",
    "\n",
    "    Perfect: aliquot sum = number\n",
    "        6 is a perfect number because (1 + 2 + 3) = 6\n",
    "        28 is a perfect number because (1 + 2 + 4 + 7 + 14) = 28\n",
    "    Abundant: aliquot sum > number\n",
    "        12 is an abundant number because (1 + 2 + 3 + 4 + 6) = 16\n",
    "        24 is an abundant number because (1 + 2 + 3 + 4 + 6 + 8 + 12) = 36\n",
    "    Deficient: aliquot sum < number\n",
    "        8 is a deficient number because (1 + 2 + 4) = 7\n",
    "        Prime numbers are deficient\n",
    "\n",
    "Implement a way to determine whether a given number is perfect. Depending on your language track, you may also need to implement a way to determine whether a given number is abundant or deficient.\n",
    "Exception messages\n",
    "\n",
    "Sometimes it is necessary to raise an exception. When you do this, you should always include a meaningful error message to indicate what the source of the error is. This makes your code more readable and helps significantly with debugging. For situations where you know that the error source will be a certain type, you can choose to raise one of the built in error types, but should still include a meaningful message.\n",
    "\n",
    "This particular exercise requires that you use the raise statement to \"throw\" a ValueError if the classify() function is passed a number that is not a positive integer. The tests will only pass if you both raise the exception and include a message with it."
   ]
  },
  {
   "cell_type": "code",
   "execution_count": null,
   "id": "491068ff",
   "metadata": {},
   "outputs": [],
   "source": [
    "def classify(number):\n",
    "    \"\"\" A perfect number equals the sum of its positive divisors.\n",
    "\n",
    "    :param number: int a positive integer\n",
    "    :return: str the classification of the input integer\n",
    "    \"\"\"\n",
    "    divisors = []\n",
    "    if number <= 0:\n",
    "        raise ValueError(\"Classification is only possible for positive integers.\")\n",
    "    for i in range(1, number-1):\n",
    "        if number % (i) == 0:\n",
    "            divisors.append(i)\n",
    "    if sum(divisors) == number:\n",
    "        return \"perfect\"\n",
    "    elif sum(divisors) > number:\n",
    "        return \"abundant\"\n",
    "    elif sum(divisors) < number:\n",
    "        return \"deficient\""
   ]
  }
 ],
 "metadata": {
  "kernelspec": {
   "display_name": "Python 3 (ipykernel)",
   "language": "python",
   "name": "python3"
  },
  "language_info": {
   "codemirror_mode": {
    "name": "ipython",
    "version": 3
   },
   "file_extension": ".py",
   "mimetype": "text/x-python",
   "name": "python",
   "nbconvert_exporter": "python",
   "pygments_lexer": "ipython3",
   "version": "3.10.7"
  }
 },
 "nbformat": 4,
 "nbformat_minor": 5
}
