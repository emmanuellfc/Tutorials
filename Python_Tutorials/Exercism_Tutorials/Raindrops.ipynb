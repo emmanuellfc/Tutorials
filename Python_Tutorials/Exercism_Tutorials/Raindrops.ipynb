{
 "cells": [
  {
   "cell_type": "markdown",
   "id": "12acac02",
   "metadata": {},
   "source": [
    "## Instructions\n",
    "\n",
    "Your task is to convert a number into a string that contains raindrop sounds corresponding to certain potential factors. A factor is a number that evenly divides into another number, leaving no remainder. The simplest way to test if one number is a factor of another is to use the modulo operation.\n",
    "\n",
    "The rules of raindrops are that if a given number:\n",
    "\n",
    "    has 3 as a factor, add 'Pling' to the result.\n",
    "    has 5 as a factor, add 'Plang' to the result.\n",
    "    has 7 as a factor, add 'Plong' to the result.\n",
    "    does not have any of 3, 5, or 7 as a factor, the result should be the digits of the number.\n"
   ]
  },
  {
   "cell_type": "code",
   "execution_count": null,
   "id": "b297856e",
   "metadata": {},
   "outputs": [],
   "source": [
    "def convert(number):\n",
    "    factors = [3, 5, 7]\n",
    "    outputs = [\"Pling\", \"Plang\", \"Plong\"]\n",
    "    x = ''\n",
    "    for i in range(len(factors)):\n",
    "        if number % factors[i] == 0:\n",
    "            x += outputs[i]\n",
    "        else:\n",
    "            pass\n",
    "    if x == '':\n",
    "        return str(number)\n",
    "    else:\n",
    "        return x"
   ]
  }
 ],
 "metadata": {
  "kernelspec": {
   "display_name": "Python 3 (ipykernel)",
   "language": "python",
   "name": "python3"
  },
  "language_info": {
   "codemirror_mode": {
    "name": "ipython",
    "version": 3
   },
   "file_extension": ".py",
   "mimetype": "text/x-python",
   "name": "python",
   "nbconvert_exporter": "python",
   "pygments_lexer": "ipython3",
   "version": "3.10.7"
  }
 },
 "nbformat": 4,
 "nbformat_minor": 5
}
