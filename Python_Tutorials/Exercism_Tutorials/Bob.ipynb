{
 "cells": [
  {
   "cell_type": "markdown",
   "id": "2f3935bf",
   "metadata": {},
   "source": [
    "## Your task is to determine what Bob will reply to someone when they say something to him or ask him a question.\n",
    "\n",
    "Bob only ever answers one of five things:\n",
    "\n",
    "    * \"Sure.\" This is his response if you ask him a question, such as \"How are you?\" The convention used for questions is that it ends with a question mark.\n",
    "    * \"Whoa, chill out!\" This is his answer if you YELL AT HIM. The convention used for yelling is ALL CAPITAL LETTERS.\n",
    "    * \"Calm down, I know what I'm doing!\" This is what he says if you yell a question at him.\n",
    "    * \"Fine. Be that way!\" This is how he responds to silence. The convention used for silence is nothing, or various combinations of whitespace characters.\n",
    "    * \"Whatever.\" This is what he answers to anything else.\n"
   ]
  },
  {
   "cell_type": "code",
   "execution_count": 44,
   "id": "f5887af2",
   "metadata": {},
   "outputs": [],
   "source": [
    "def response(hey_bob):\n",
    "    hey_bob = hey_bob.strip()\n",
    "    if not hey_bob:\n",
    "        return 'Fine. Be that way!'\n",
    "    elif hey_bob[-1] == '?':\n",
    "        if hey_bob.isupper():\n",
    "            return \"Calm down, I know what I'm doing!\"\n",
    "        else:\n",
    "            return 'Sure.'\n",
    "    elif hey_bob.isupper():\n",
    "        return 'Whoa, chill out!' \n",
    "\n",
    "    else:\n",
    "        return 'Whatever.'"
   ]
  }
 ],
 "metadata": {
  "kernelspec": {
   "display_name": "Python 3 (ipykernel)",
   "language": "python",
   "name": "python3"
  },
  "language_info": {
   "codemirror_mode": {
    "name": "ipython",
    "version": 3
   },
   "file_extension": ".py",
   "mimetype": "text/x-python",
   "name": "python",
   "nbconvert_exporter": "python",
   "pygments_lexer": "ipython3",
   "version": "3.10.7"
  }
 },
 "nbformat": 4,
 "nbformat_minor": 5
}
