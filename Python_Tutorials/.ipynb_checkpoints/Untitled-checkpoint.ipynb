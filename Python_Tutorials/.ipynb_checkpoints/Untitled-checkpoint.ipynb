{
 "cells": [
  {
   "cell_type": "code",
   "execution_count": 10,
   "id": "65d3dc84",
   "metadata": {},
   "outputs": [],
   "source": [
    "def square_of_sum(number):\n",
    "    sq_sum0 = []\n",
    "    for i in range(number + 1):\n",
    "        sq_sum0.append(i)\n",
    "    sq_sum = sum(sq_sum0)**2\n",
    "    return sq_sum"
   ]
  },
  {
   "cell_type": "code",
   "execution_count": 11,
   "id": "0732c7ff",
   "metadata": {},
   "outputs": [
    {
     "data": {
      "text/plain": [
       "3025"
      ]
     },
     "execution_count": 11,
     "metadata": {},
     "output_type": "execute_result"
    }
   ],
   "source": [
    "square_of_sum(10)"
   ]
  },
  {
   "cell_type": "code",
   "execution_count": 12,
   "id": "cd0aa8bc",
   "metadata": {},
   "outputs": [],
   "source": [
    "def sum_of_squares(number):\n",
    "    sq_sum0 = []\n",
    "    for i in range(number + 1):\n",
    "        sq_sum0.append(i**2)\n",
    "    sq_sum = sum(sq_sum0)\n",
    "    return sq_sum"
   ]
  },
  {
   "cell_type": "code",
   "execution_count": 13,
   "id": "629230bc",
   "metadata": {},
   "outputs": [
    {
     "data": {
      "text/plain": [
       "385"
      ]
     },
     "execution_count": 13,
     "metadata": {},
     "output_type": "execute_result"
    }
   ],
   "source": [
    "sum_of_squares(10)"
   ]
  },
  {
   "cell_type": "code",
   "execution_count": 14,
   "id": "0c5931a5",
   "metadata": {},
   "outputs": [],
   "source": [
    "x = str(10)"
   ]
  },
  {
   "cell_type": "code",
   "execution_count": 29,
   "id": "011f7630",
   "metadata": {},
   "outputs": [],
   "source": [
    "def trial(number):\n",
    "    condition = []\n",
    "    str_num = str(number)\n",
    "    str_len = len(str_num)\n",
    "    return int(x[0]) ** str_len"
   ]
  },
  {
   "cell_type": "code",
   "execution_count": 30,
   "id": "d2e5a19e",
   "metadata": {},
   "outputs": [
    {
     "data": {
      "text/plain": [
       "1"
      ]
     },
     "execution_count": 30,
     "metadata": {},
     "output_type": "execute_result"
    }
   ],
   "source": [
    "trial(10)"
   ]
  },
  {
   "cell_type": "code",
   "execution_count": 36,
   "id": "9d2cfd0d",
   "metadata": {},
   "outputs": [],
   "source": [
    "def armstrong(number):\n",
    "    condition = []\n",
    "    str_num = str(number)\n",
    "    str_len = len(str_num)\n",
    "    for i in range(str_len):\n",
    "        s1 = int(str_num[i]) ** str_len\n",
    "        condition.append(s1)\n",
    "    condition_sum = sum(condition)\n",
    "    if number == condition_sum:\n",
    "        return True\n",
    "    else:\n",
    "        return False"
   ]
  },
  {
   "cell_type": "code",
   "execution_count": 37,
   "id": "6785808d",
   "metadata": {},
   "outputs": [
    {
     "data": {
      "text/plain": [
       "False"
      ]
     },
     "execution_count": 37,
     "metadata": {},
     "output_type": "execute_result"
    }
   ],
   "source": [
    "armstrong(10)"
   ]
  },
  {
   "cell_type": "code",
   "execution_count": 38,
   "id": "0828d61a",
   "metadata": {},
   "outputs": [],
   "source": [
    "def eat_ghost(power_pellet_active, touching_ghost):\n",
    "    \"\"\"Verify that Pac-Man can eat a ghost if he is empowered by a power pellet.\n",
    "\n",
    "    :param power_pellet_active: bool - does the player have an active power pellet?\n",
    "    :param touching_ghost: bool - is the player touching a ghost?\n",
    "    :return: bool - can the ghost be eaten?\n",
    "    \"\"\"\n",
    "    if power_pellet_active == True and touching_ghost == True:\n",
    "        return True\n",
    "    else:\n",
    "        return False"
   ]
  },
  {
   "cell_type": "code",
   "execution_count": 39,
   "id": "6e312859",
   "metadata": {},
   "outputs": [
    {
     "data": {
      "text/plain": [
       "False"
      ]
     },
     "execution_count": 39,
     "metadata": {},
     "output_type": "execute_result"
    }
   ],
   "source": [
    "eat_ghost(False, True)"
   ]
  },
  {
   "cell_type": "code",
   "execution_count": null,
   "id": "9f440643",
   "metadata": {},
   "outputs": [],
   "source": [
    "def score(touching_power_pellet, touching_dot):\n",
    "    \"\"\"Verify that Pac-Man has scored when a power pellet or dot has been eaten.\n",
    "\n",
    "    :param touching_power_pellet: bool - is the player touching a power pellet?\n",
    "    :param touching_dot: bool - is the player touching a dot?\n",
    "    :return: bool - has the player scored or not?\n",
    "    \"\"\"\n",
    "\n",
    "    if touching_power_pellet == True or touching_dot == True:\n",
    "        return True\n",
    "    else:\n",
    "        return False"
   ]
  }
 ],
 "metadata": {
  "kernelspec": {
   "display_name": "Python 3 (ipykernel)",
   "language": "python",
   "name": "python3"
  },
  "language_info": {
   "codemirror_mode": {
    "name": "ipython",
    "version": 3
   },
   "file_extension": ".py",
   "mimetype": "text/x-python",
   "name": "python",
   "nbconvert_exporter": "python",
   "pygments_lexer": "ipython3",
   "version": "3.10.7"
  }
 },
 "nbformat": 4,
 "nbformat_minor": 5
}
